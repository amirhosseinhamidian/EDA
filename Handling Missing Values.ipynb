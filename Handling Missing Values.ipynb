{
 "cells": [
  {
   "cell_type": "markdown",
   "source": [
    "# Handling Missing Values\n"
   ],
   "metadata": {
    "collapsed": false
   },
   "id": "8001b1a74c40dfd4"
  },
  {
   "cell_type": "code",
   "execution_count": 1,
   "outputs": [],
   "source": [
    "import pandas as pd\n",
    "import numpy as np\n",
    "import matplotlib.pyplot as plt"
   ],
   "metadata": {
    "collapsed": false,
    "ExecuteTime": {
     "end_time": "2023-11-14T07:44:51.584395700Z",
     "start_time": "2023-11-14T07:44:49.194197400Z"
    }
   },
   "id": "b3ecdd9416647925"
  },
  {
   "cell_type": "code",
   "execution_count": 2,
   "outputs": [],
   "source": [
    "df = pd.read_csv(\"D:\\EDA\\Churn_Modelling.csv\")"
   ],
   "metadata": {
    "collapsed": false,
    "ExecuteTime": {
     "end_time": "2023-11-14T07:46:17.563065200Z",
     "start_time": "2023-11-14T07:46:17.531773Z"
    }
   },
   "id": "fa146e6d8fac1b46"
  },
  {
   "cell_type": "code",
   "execution_count": 9,
   "outputs": [
    {
     "name": "stdout",
     "output_type": "stream",
     "text": [
      "<class 'pandas.core.frame.DataFrame'>\n",
      "RangeIndex: 10000 entries, 0 to 9999\n",
      "Data columns (total 16 columns):\n",
      " #   Column           Non-Null Count  Dtype  \n",
      "---  ------           --------------  -----  \n",
      " 0   RowNumber        10000 non-null  int64  \n",
      " 1   CustomerId       10000 non-null  int64  \n",
      " 2   Surname          10000 non-null  object \n",
      " 3   CreditScore      10000 non-null  int64  \n",
      " 4   Geography        10000 non-null  object \n",
      " 5   Gender           10000 non-null  object \n",
      " 6   Age              10000 non-null  int64  \n",
      " 7   Tenure           10000 non-null  int64  \n",
      " 8   Balance          10000 non-null  float64\n",
      " 9   NumOfProducts    10000 non-null  int64  \n",
      " 10  HasCrCard        10000 non-null  int64  \n",
      " 11  IsActiveMember   10000 non-null  int64  \n",
      " 12  EstimatedSalary  10000 non-null  float64\n",
      " 13  Exited           10000 non-null  int64  \n",
      " 14  gender           10000 non-null  object \n",
      " 15  age              10000 non-null  object \n",
      "dtypes: float64(2), int64(9), object(5)\n",
      "memory usage: 1.2+ MB\n"
     ]
    }
   ],
   "source": [
    "df.info()"
   ],
   "metadata": {
    "collapsed": false,
    "ExecuteTime": {
     "end_time": "2023-11-14T08:08:51.493701Z",
     "start_time": "2023-11-14T08:08:51.470726800Z"
    }
   },
   "id": "c5f33b242580d3f3"
  },
  {
   "cell_type": "code",
   "execution_count": 11,
   "outputs": [
    {
     "name": "stderr",
     "output_type": "stream",
     "text": [
      "C:\\Users\\amir\\AppData\\Local\\Temp\\ipykernel_9208\\2297823353.py:10: FutureWarning: Setting an item of incompatible dtype is deprecated and will raise in a future error of pandas. Value '' has dtype incompatible with int64, please explicitly cast to a compatible dtype first.\n",
      "  df.loc[age_indices, 'Age'] = ''\n"
     ]
    }
   ],
   "source": [
    "import random\n",
    "\n",
    "\n",
    "# Randomly select 56 indices for the 'gender' column\n",
    "gender_indices = random.sample(range(len(df)), min(56, len(df)))\n",
    "df.loc[gender_indices, 'Gender'] = ''\n",
    "\n",
    "# Randomly select 300 indices for the 'age' column\n",
    "age_indices = random.sample(range(len(df)), min(300, len(df)))\n",
    "df.loc[age_indices, 'Age'] = ''\n",
    "\n",
    "# Save the modified DataFrame back to a CSV file\n",
    "output_file_path = 'modified_file.csv'  # Replace 'modified_file.csv' with the desired output file path\n",
    "df.to_csv(output_file_path, index=False)"
   ],
   "metadata": {
    "collapsed": false,
    "ExecuteTime": {
     "end_time": "2023-11-14T08:10:11.055900200Z",
     "start_time": "2023-11-14T08:10:11.001129Z"
    }
   },
   "id": "640595d594d5b64"
  },
  {
   "cell_type": "code",
   "execution_count": 15,
   "outputs": [
    {
     "name": "stdout",
     "output_type": "stream",
     "text": [
      "<class 'pandas.core.frame.DataFrame'>\n",
      "RangeIndex: 10000 entries, 0 to 9999\n",
      "Data columns (total 16 columns):\n",
      " #   Column           Non-Null Count  Dtype  \n",
      "---  ------           --------------  -----  \n",
      " 0   RowNumber        10000 non-null  int64  \n",
      " 1   CustomerId       10000 non-null  int64  \n",
      " 2   Surname          10000 non-null  object \n",
      " 3   CreditScore      10000 non-null  int64  \n",
      " 4   Geography        10000 non-null  object \n",
      " 5   Gender           9944 non-null   object \n",
      " 6   Age              9700 non-null   float64\n",
      " 7   Tenure           10000 non-null  int64  \n",
      " 8   Balance          10000 non-null  float64\n",
      " 9   NumOfProducts    10000 non-null  int64  \n",
      " 10  HasCrCard        10000 non-null  int64  \n",
      " 11  IsActiveMember   10000 non-null  int64  \n",
      " 12  EstimatedSalary  10000 non-null  float64\n",
      " 13  Exited           10000 non-null  int64  \n",
      " 14  gender           9889 non-null   object \n",
      " 15  age              9415 non-null   object \n",
      "dtypes: float64(3), int64(8), object(5)\n",
      "memory usage: 1.2+ MB\n"
     ]
    }
   ],
   "source": [
    "dfm = pd.read_csv(\"modified_file.csv\")\n",
    "dfm.info()"
   ],
   "metadata": {
    "collapsed": false,
    "ExecuteTime": {
     "end_time": "2023-11-14T08:12:51.621692100Z",
     "start_time": "2023-11-14T08:12:51.518041400Z"
    }
   },
   "id": "51c87635d0a7da6c"
  },
  {
   "cell_type": "code",
   "execution_count": 17,
   "outputs": [],
   "source": [
    "dlt_col = [\"age\", \"gender\"]\n",
    "dfm = dfm.drop(columns=dlt_col)\n",
    "df.to_csv('modified_file.csv', index=False)"
   ],
   "metadata": {
    "collapsed": false,
    "ExecuteTime": {
     "end_time": "2023-11-14T08:20:35.952762700Z",
     "start_time": "2023-11-14T08:20:35.782384800Z"
    }
   },
   "id": "2b656107ea65783f"
  },
  {
   "cell_type": "code",
   "execution_count": 18,
   "outputs": [
    {
     "name": "stdout",
     "output_type": "stream",
     "text": [
      "<class 'pandas.core.frame.DataFrame'>\n",
      "RangeIndex: 10000 entries, 0 to 9999\n",
      "Data columns (total 14 columns):\n",
      " #   Column           Non-Null Count  Dtype  \n",
      "---  ------           --------------  -----  \n",
      " 0   RowNumber        10000 non-null  int64  \n",
      " 1   CustomerId       10000 non-null  int64  \n",
      " 2   Surname          10000 non-null  object \n",
      " 3   CreditScore      10000 non-null  int64  \n",
      " 4   Geography        10000 non-null  object \n",
      " 5   Gender           9944 non-null   object \n",
      " 6   Age              9700 non-null   float64\n",
      " 7   Tenure           10000 non-null  int64  \n",
      " 8   Balance          10000 non-null  float64\n",
      " 9   NumOfProducts    10000 non-null  int64  \n",
      " 10  HasCrCard        10000 non-null  int64  \n",
      " 11  IsActiveMember   10000 non-null  int64  \n",
      " 12  EstimatedSalary  10000 non-null  float64\n",
      " 13  Exited           10000 non-null  int64  \n",
      "dtypes: float64(3), int64(8), object(3)\n",
      "memory usage: 1.1+ MB\n"
     ]
    }
   ],
   "source": [
    "dfm.info()"
   ],
   "metadata": {
    "collapsed": false,
    "ExecuteTime": {
     "end_time": "2023-11-14T08:20:49.287219800Z",
     "start_time": "2023-11-14T08:20:49.264831800Z"
    }
   },
   "id": "414e2ba515297d63"
  },
  {
   "cell_type": "markdown",
   "source": [
    "# find null values in the data\n"
   ],
   "metadata": {
    "collapsed": false
   },
   "id": "adf12f366db248e5"
  },
  {
   "cell_type": "code",
   "execution_count": 19,
   "outputs": [
    {
     "name": "stdout",
     "output_type": "stream",
     "text": [
      "RowNumber            0\n",
      "CustomerId           0\n",
      "Surname              0\n",
      "CreditScore          0\n",
      "Geography            0\n",
      "Gender              56\n",
      "Age                300\n",
      "Tenure               0\n",
      "Balance              0\n",
      "NumOfProducts        0\n",
      "HasCrCard            0\n",
      "IsActiveMember       0\n",
      "EstimatedSalary      0\n",
      "Exited               0\n",
      "dtype: int64\n"
     ]
    }
   ],
   "source": [
    "print(dfm.isnull().sum())"
   ],
   "metadata": {
    "collapsed": false,
    "ExecuteTime": {
     "end_time": "2023-11-14T08:25:25.907756200Z",
     "start_time": "2023-11-14T08:25:25.868593100Z"
    }
   },
   "id": "cfbd5dee61299e34"
  },
  {
   "cell_type": "markdown",
   "source": [
    "# Filling the Missing Values - imputation\n",
    "- Filling the missing data with mean or median value if it's a numerical variable.\n",
    "- Filling the missing data with mode if it's a categorical value.\n",
    "- Filling the numerical value with 0 or -999, or some other number that will not occur in the data. This can be done so that the machine can recognize that the data is not ral or is different.\n",
    "- Filling the categorical value with a new type for the missing values."
   ],
   "metadata": {
    "collapsed": false
   },
   "id": "3d4aa09bdd88c597"
  },
  {
   "cell_type": "code",
   "execution_count": 20,
   "outputs": [
    {
     "data": {
      "text/plain": "38.93773195876289"
     },
     "execution_count": 20,
     "metadata": {},
     "output_type": "execute_result"
    }
   ],
   "source": [
    "dfm['Age'].mean()"
   ],
   "metadata": {
    "collapsed": false,
    "ExecuteTime": {
     "end_time": "2023-11-14T08:39:27.648814800Z",
     "start_time": "2023-11-14T08:39:27.258745600Z"
    }
   },
   "id": "a58b612c18c964ab"
  },
  {
   "cell_type": "code",
   "execution_count": 21,
   "outputs": [
    {
     "data": {
      "text/plain": "37.0"
     },
     "execution_count": 21,
     "metadata": {},
     "output_type": "execute_result"
    }
   ],
   "source": [
    "dfm['Age'].median()"
   ],
   "metadata": {
    "collapsed": false,
    "ExecuteTime": {
     "end_time": "2023-11-14T08:39:45.332230Z",
     "start_time": "2023-11-14T08:39:45.317084200Z"
    }
   },
   "id": "537c383572048da1"
  },
  {
   "cell_type": "code",
   "execution_count": 22,
   "outputs": [
    {
     "name": "stdout",
     "output_type": "stream",
     "text": [
      "<class 'pandas.core.frame.DataFrame'>\n",
      "RangeIndex: 10000 entries, 0 to 9999\n",
      "Data columns (total 14 columns):\n",
      " #   Column           Non-Null Count  Dtype  \n",
      "---  ------           --------------  -----  \n",
      " 0   RowNumber        10000 non-null  int64  \n",
      " 1   CustomerId       10000 non-null  int64  \n",
      " 2   Surname          10000 non-null  object \n",
      " 3   CreditScore      10000 non-null  int64  \n",
      " 4   Geography        10000 non-null  object \n",
      " 5   Gender           9944 non-null   object \n",
      " 6   Age              10000 non-null  float64\n",
      " 7   Tenure           10000 non-null  int64  \n",
      " 8   Balance          10000 non-null  float64\n",
      " 9   NumOfProducts    10000 non-null  int64  \n",
      " 10  HasCrCard        10000 non-null  int64  \n",
      " 11  IsActiveMember   10000 non-null  int64  \n",
      " 12  EstimatedSalary  10000 non-null  float64\n",
      " 13  Exited           10000 non-null  int64  \n",
      "dtypes: float64(3), int64(8), object(3)\n",
      "memory usage: 1.1+ MB\n"
     ]
    }
   ],
   "source": [
    "# fillna: fill the null records\n",
    "# dropna: drop the null records\n",
    "updated_df = dfm\n",
    "updated_df['Age']=updated_df['Age'].fillna(dfm['Age'].mean())\n",
    "updated_df.info()"
   ],
   "metadata": {
    "collapsed": false,
    "ExecuteTime": {
     "end_time": "2023-11-14T09:03:54.094046900Z",
     "start_time": "2023-11-14T09:03:53.890762Z"
    }
   },
   "id": "20b2228ac77ddc23"
  },
  {
   "cell_type": "code",
   "execution_count": 23,
   "outputs": [
    {
     "name": "stdout",
     "output_type": "stream",
     "text": [
      "<class 'pandas.core.frame.DataFrame'>\n",
      "RangeIndex: 10000 entries, 0 to 9999\n",
      "Data columns (total 14 columns):\n",
      " #   Column           Non-Null Count  Dtype  \n",
      "---  ------           --------------  -----  \n",
      " 0   RowNumber        10000 non-null  int64  \n",
      " 1   CustomerId       10000 non-null  int64  \n",
      " 2   Surname          10000 non-null  object \n",
      " 3   CreditScore      10000 non-null  int64  \n",
      " 4   Geography        10000 non-null  object \n",
      " 5   Gender           9944 non-null   object \n",
      " 6   Age              10000 non-null  float64\n",
      " 7   Tenure           10000 non-null  int64  \n",
      " 8   Balance          10000 non-null  float64\n",
      " 9   NumOfProducts    10000 non-null  int64  \n",
      " 10  HasCrCard        10000 non-null  int64  \n",
      " 11  IsActiveMember   10000 non-null  int64  \n",
      " 12  EstimatedSalary  10000 non-null  float64\n",
      " 13  Exited           10000 non-null  int64  \n",
      "dtypes: float64(3), int64(8), object(3)\n",
      "memory usage: 1.1+ MB\n"
     ]
    }
   ],
   "source": [
    "updated_df1 = dfm\n",
    "updated_df1['Age']=updated_df1['Age'].fillna(dfm['Age'].median())\n",
    "updated_df1.info()"
   ],
   "metadata": {
    "collapsed": false,
    "ExecuteTime": {
     "end_time": "2023-11-14T09:05:39.490314800Z",
     "start_time": "2023-11-14T09:05:39.462755800Z"
    }
   },
   "id": "71f02a44124368c1"
  },
  {
   "cell_type": "markdown",
   "source": [
    "# Forward & Backward Filling - Imputation"
   ],
   "metadata": {
    "collapsed": false
   },
   "id": "66283ee39d8336b9"
  },
  {
   "cell_type": "code",
   "execution_count": 25,
   "outputs": [],
   "source": [
    "df = pd.read_csv('D:\\EDA\\modified_file.csv')"
   ],
   "metadata": {
    "collapsed": false,
    "ExecuteTime": {
     "end_time": "2023-11-14T09:08:36.635894Z",
     "start_time": "2023-11-14T09:08:36.604272900Z"
    }
   },
   "id": "f8e0d728f962e47a"
  },
  {
   "cell_type": "code",
   "execution_count": 26,
   "outputs": [
    {
     "name": "stdout",
     "output_type": "stream",
     "text": [
      "<class 'pandas.core.frame.DataFrame'>\n",
      "RangeIndex: 10000 entries, 0 to 9999\n",
      "Data columns (total 16 columns):\n",
      " #   Column           Non-Null Count  Dtype  \n",
      "---  ------           --------------  -----  \n",
      " 0   RowNumber        10000 non-null  int64  \n",
      " 1   CustomerId       10000 non-null  int64  \n",
      " 2   Surname          10000 non-null  object \n",
      " 3   CreditScore      10000 non-null  int64  \n",
      " 4   Geography        10000 non-null  object \n",
      " 5   Gender           9944 non-null   object \n",
      " 6   Age              9700 non-null   float64\n",
      " 7   Tenure           10000 non-null  int64  \n",
      " 8   Balance          10000 non-null  float64\n",
      " 9   NumOfProducts    10000 non-null  int64  \n",
      " 10  HasCrCard        10000 non-null  int64  \n",
      " 11  IsActiveMember   10000 non-null  int64  \n",
      " 12  EstimatedSalary  10000 non-null  float64\n",
      " 13  Exited           10000 non-null  int64  \n",
      " 14  gender           9889 non-null   object \n",
      " 15  age              9415 non-null   object \n",
      "dtypes: float64(3), int64(8), object(5)\n",
      "memory usage: 1.2+ MB\n"
     ]
    }
   ],
   "source": [
    "df.info()"
   ],
   "metadata": {
    "collapsed": false,
    "ExecuteTime": {
     "end_time": "2023-11-14T09:08:46.862061800Z",
     "start_time": "2023-11-14T09:08:46.812525400Z"
    }
   },
   "id": "8b87de20ff08ae76"
  },
  {
   "cell_type": "code",
   "execution_count": 27,
   "outputs": [],
   "source": [
    "df1 = df"
   ],
   "metadata": {
    "collapsed": false,
    "ExecuteTime": {
     "end_time": "2023-11-14T09:11:23.802605300Z",
     "start_time": "2023-11-14T09:11:23.770733300Z"
    }
   },
   "id": "d0e68b526aa61c79"
  },
  {
   "cell_type": "code",
   "execution_count": 28,
   "outputs": [],
   "source": [
    "df1['Age'] = df1['Age'].bfill()"
   ],
   "metadata": {
    "collapsed": false,
    "ExecuteTime": {
     "end_time": "2023-11-14T09:12:18.820198100Z",
     "start_time": "2023-11-14T09:12:18.786353600Z"
    }
   },
   "id": "a14b4e6f8e205bd8"
  },
  {
   "cell_type": "code",
   "execution_count": 29,
   "outputs": [
    {
     "name": "stdout",
     "output_type": "stream",
     "text": [
      "<class 'pandas.core.frame.DataFrame'>\n",
      "RangeIndex: 10000 entries, 0 to 9999\n",
      "Data columns (total 16 columns):\n",
      " #   Column           Non-Null Count  Dtype  \n",
      "---  ------           --------------  -----  \n",
      " 0   RowNumber        10000 non-null  int64  \n",
      " 1   CustomerId       10000 non-null  int64  \n",
      " 2   Surname          10000 non-null  object \n",
      " 3   CreditScore      10000 non-null  int64  \n",
      " 4   Geography        10000 non-null  object \n",
      " 5   Gender           9944 non-null   object \n",
      " 6   Age              10000 non-null  float64\n",
      " 7   Tenure           10000 non-null  int64  \n",
      " 8   Balance          10000 non-null  float64\n",
      " 9   NumOfProducts    10000 non-null  int64  \n",
      " 10  HasCrCard        10000 non-null  int64  \n",
      " 11  IsActiveMember   10000 non-null  int64  \n",
      " 12  EstimatedSalary  10000 non-null  float64\n",
      " 13  Exited           10000 non-null  int64  \n",
      " 14  gender           9889 non-null   object \n",
      " 15  age              9415 non-null   object \n",
      "dtypes: float64(3), int64(8), object(5)\n",
      "memory usage: 1.2+ MB\n"
     ]
    }
   ],
   "source": [
    "df1.info()"
   ],
   "metadata": {
    "collapsed": false,
    "ExecuteTime": {
     "end_time": "2023-11-14T09:12:27.879808600Z",
     "start_time": "2023-11-14T09:12:27.854530900Z"
    }
   },
   "id": "be68704831ecfc46"
  },
  {
   "cell_type": "code",
   "execution_count": 30,
   "outputs": [],
   "source": [
    "df2 = df"
   ],
   "metadata": {
    "collapsed": false,
    "ExecuteTime": {
     "end_time": "2023-11-14T09:13:26.962087600Z",
     "start_time": "2023-11-14T09:13:26.905512700Z"
    }
   },
   "id": "3a71d99cc9e0d9d8"
  },
  {
   "cell_type": "code",
   "execution_count": 31,
   "outputs": [],
   "source": [
    "df2['Age'] = df2['Age'].ffill()"
   ],
   "metadata": {
    "collapsed": false,
    "ExecuteTime": {
     "end_time": "2023-11-14T09:14:03.725278900Z",
     "start_time": "2023-11-14T09:14:03.698458Z"
    }
   },
   "id": "82a60f969323afda"
  },
  {
   "cell_type": "code",
   "execution_count": 33,
   "outputs": [
    {
     "name": "stdout",
     "output_type": "stream",
     "text": [
      "<class 'pandas.core.frame.DataFrame'>\n",
      "RangeIndex: 10000 entries, 0 to 9999\n",
      "Data columns (total 16 columns):\n",
      " #   Column           Non-Null Count  Dtype  \n",
      "---  ------           --------------  -----  \n",
      " 0   RowNumber        10000 non-null  int64  \n",
      " 1   CustomerId       10000 non-null  int64  \n",
      " 2   Surname          10000 non-null  object \n",
      " 3   CreditScore      10000 non-null  int64  \n",
      " 4   Geography        10000 non-null  object \n",
      " 5   Gender           9944 non-null   object \n",
      " 6   Age              10000 non-null  float64\n",
      " 7   Tenure           10000 non-null  int64  \n",
      " 8   Balance          10000 non-null  float64\n",
      " 9   NumOfProducts    10000 non-null  int64  \n",
      " 10  HasCrCard        10000 non-null  int64  \n",
      " 11  IsActiveMember   10000 non-null  int64  \n",
      " 12  EstimatedSalary  10000 non-null  float64\n",
      " 13  Exited           10000 non-null  int64  \n",
      " 14  gender           9889 non-null   object \n",
      " 15  age              9415 non-null   object \n",
      "dtypes: float64(3), int64(8), object(5)\n",
      "memory usage: 1.2+ MB\n"
     ]
    }
   ],
   "source": [
    "df2.info()"
   ],
   "metadata": {
    "collapsed": false,
    "ExecuteTime": {
     "end_time": "2023-11-14T09:14:19.760286400Z",
     "start_time": "2023-11-14T09:14:19.742053700Z"
    }
   },
   "id": "a8060a3ecf9a6642"
  },
  {
   "cell_type": "markdown",
   "source": [
    "# Feature Scaling"
   ],
   "metadata": {
    "collapsed": false
   },
   "id": "c49f00d4e990d6a9"
  },
  {
   "cell_type": "code",
   "execution_count": 16,
   "outputs": [],
   "source": [
    "import seaborn as sns\n",
    "import pandas as pd\n",
    "import numpy as np\n",
    "from sklearn.preprocessing import StandardScaler\n",
    "from sklearn.preprocessing import MinMaxScaler"
   ],
   "metadata": {
    "collapsed": false,
    "ExecuteTime": {
     "end_time": "2023-11-14T10:44:19.073364100Z",
     "start_time": "2023-11-14T10:44:19.009750400Z"
    }
   },
   "id": "4819ac862455aad4"
  },
  {
   "cell_type": "code",
   "execution_count": 8,
   "outputs": [],
   "source": [
    "df = pd.read_csv('D:\\EDA\\modified_file.csv')"
   ],
   "metadata": {
    "collapsed": false,
    "ExecuteTime": {
     "end_time": "2023-11-14T10:32:30.948217200Z",
     "start_time": "2023-11-14T10:32:30.919078800Z"
    }
   },
   "id": "d73db1b54904974b"
  },
  {
   "cell_type": "markdown",
   "source": [
    "what is Normalization?\n",
    "Normalization is a scaling technique in which values are shifted and rescaled so that they end up ranging between 0 and 1. it is also known as Min-Max scaling."
   ],
   "metadata": {
    "collapsed": false
   },
   "id": "6c22e660d48afcbd"
  },
  {
   "cell_type": "markdown",
   "source": [
    "What is Standardization?\n",
    "Standardization is another scaling technique where the values are centered around the mean with a unit standard deviation. This means that the mean of the attribute becomes zero and the resultant distribution has a unit standard deviation."
   ],
   "metadata": {
    "collapsed": false
   },
   "id": "14a68ab45c7e63a2"
  },
  {
   "cell_type": "code",
   "execution_count": 9,
   "outputs": [
    {
     "data": {
      "text/plain": "   RowNumber  CustomerId   Surname  CreditScore Geography  Gender   Age  \\\n0          1    15634602  Hargrave          619    France  Female  42.0   \n1          2    15647311      Hill          608     Spain  Female   NaN   \n2          3    15619304      Onio          502    France  Female  42.0   \n3          4    15701354      Boni          699    France  Female  39.0   \n4          5    15737888  Mitchell          850     Spain  Female  43.0   \n\n   Tenure    Balance  NumOfProducts  HasCrCard  IsActiveMember  \\\n0       2       0.00              1          1               1   \n1       1   83807.86              1          0               1   \n2       8  159660.80              3          1               0   \n3       1       0.00              2          0               0   \n4       2  125510.82              1          1               1   \n\n   EstimatedSalary  Exited gender age  \n0        101348.88       1      n   n  \n1        112542.58       0      n   n  \n2        113931.57       1      n   n  \n3         93826.63       0      n   n  \n4         79084.10       0      n   n  ",
      "text/html": "<div>\n<style scoped>\n    .dataframe tbody tr th:only-of-type {\n        vertical-align: middle;\n    }\n\n    .dataframe tbody tr th {\n        vertical-align: top;\n    }\n\n    .dataframe thead th {\n        text-align: right;\n    }\n</style>\n<table border=\"1\" class=\"dataframe\">\n  <thead>\n    <tr style=\"text-align: right;\">\n      <th></th>\n      <th>RowNumber</th>\n      <th>CustomerId</th>\n      <th>Surname</th>\n      <th>CreditScore</th>\n      <th>Geography</th>\n      <th>Gender</th>\n      <th>Age</th>\n      <th>Tenure</th>\n      <th>Balance</th>\n      <th>NumOfProducts</th>\n      <th>HasCrCard</th>\n      <th>IsActiveMember</th>\n      <th>EstimatedSalary</th>\n      <th>Exited</th>\n      <th>gender</th>\n      <th>age</th>\n    </tr>\n  </thead>\n  <tbody>\n    <tr>\n      <th>0</th>\n      <td>1</td>\n      <td>15634602</td>\n      <td>Hargrave</td>\n      <td>619</td>\n      <td>France</td>\n      <td>Female</td>\n      <td>42.0</td>\n      <td>2</td>\n      <td>0.00</td>\n      <td>1</td>\n      <td>1</td>\n      <td>1</td>\n      <td>101348.88</td>\n      <td>1</td>\n      <td>n</td>\n      <td>n</td>\n    </tr>\n    <tr>\n      <th>1</th>\n      <td>2</td>\n      <td>15647311</td>\n      <td>Hill</td>\n      <td>608</td>\n      <td>Spain</td>\n      <td>Female</td>\n      <td>NaN</td>\n      <td>1</td>\n      <td>83807.86</td>\n      <td>1</td>\n      <td>0</td>\n      <td>1</td>\n      <td>112542.58</td>\n      <td>0</td>\n      <td>n</td>\n      <td>n</td>\n    </tr>\n    <tr>\n      <th>2</th>\n      <td>3</td>\n      <td>15619304</td>\n      <td>Onio</td>\n      <td>502</td>\n      <td>France</td>\n      <td>Female</td>\n      <td>42.0</td>\n      <td>8</td>\n      <td>159660.80</td>\n      <td>3</td>\n      <td>1</td>\n      <td>0</td>\n      <td>113931.57</td>\n      <td>1</td>\n      <td>n</td>\n      <td>n</td>\n    </tr>\n    <tr>\n      <th>3</th>\n      <td>4</td>\n      <td>15701354</td>\n      <td>Boni</td>\n      <td>699</td>\n      <td>France</td>\n      <td>Female</td>\n      <td>39.0</td>\n      <td>1</td>\n      <td>0.00</td>\n      <td>2</td>\n      <td>0</td>\n      <td>0</td>\n      <td>93826.63</td>\n      <td>0</td>\n      <td>n</td>\n      <td>n</td>\n    </tr>\n    <tr>\n      <th>4</th>\n      <td>5</td>\n      <td>15737888</td>\n      <td>Mitchell</td>\n      <td>850</td>\n      <td>Spain</td>\n      <td>Female</td>\n      <td>43.0</td>\n      <td>2</td>\n      <td>125510.82</td>\n      <td>1</td>\n      <td>1</td>\n      <td>1</td>\n      <td>79084.10</td>\n      <td>0</td>\n      <td>n</td>\n      <td>n</td>\n    </tr>\n  </tbody>\n</table>\n</div>"
     },
     "execution_count": 9,
     "metadata": {},
     "output_type": "execute_result"
    }
   ],
   "source": [
    "df.head()"
   ],
   "metadata": {
    "collapsed": false,
    "ExecuteTime": {
     "end_time": "2023-11-14T10:32:35.968508100Z",
     "start_time": "2023-11-14T10:32:35.885949800Z"
    }
   },
   "id": "2c5265425145d5a2"
  },
  {
   "cell_type": "code",
   "execution_count": 10,
   "outputs": [],
   "source": [
    "new_df = pd.DataFrame(df,columns=['Age', 'Tenure'])"
   ],
   "metadata": {
    "collapsed": false,
    "ExecuteTime": {
     "end_time": "2023-11-14T10:36:05.886782800Z",
     "start_time": "2023-11-14T10:36:05.873458100Z"
    }
   },
   "id": "38d59698a2cf19d1"
  },
  {
   "cell_type": "code",
   "execution_count": 11,
   "outputs": [
    {
     "data": {
      "text/plain": "    Age  Tenure\n0  42.0       2\n1   NaN       1\n2  42.0       8\n3  39.0       1\n4  43.0       2",
      "text/html": "<div>\n<style scoped>\n    .dataframe tbody tr th:only-of-type {\n        vertical-align: middle;\n    }\n\n    .dataframe tbody tr th {\n        vertical-align: top;\n    }\n\n    .dataframe thead th {\n        text-align: right;\n    }\n</style>\n<table border=\"1\" class=\"dataframe\">\n  <thead>\n    <tr style=\"text-align: right;\">\n      <th></th>\n      <th>Age</th>\n      <th>Tenure</th>\n    </tr>\n  </thead>\n  <tbody>\n    <tr>\n      <th>0</th>\n      <td>42.0</td>\n      <td>2</td>\n    </tr>\n    <tr>\n      <th>1</th>\n      <td>NaN</td>\n      <td>1</td>\n    </tr>\n    <tr>\n      <th>2</th>\n      <td>42.0</td>\n      <td>8</td>\n    </tr>\n    <tr>\n      <th>3</th>\n      <td>39.0</td>\n      <td>1</td>\n    </tr>\n    <tr>\n      <th>4</th>\n      <td>43.0</td>\n      <td>2</td>\n    </tr>\n  </tbody>\n</table>\n</div>"
     },
     "execution_count": 11,
     "metadata": {},
     "output_type": "execute_result"
    }
   ],
   "source": [
    "new_df.head(5)"
   ],
   "metadata": {
    "collapsed": false,
    "ExecuteTime": {
     "end_time": "2023-11-14T10:36:18.650591600Z",
     "start_time": "2023-11-14T10:36:18.623104800Z"
    }
   },
   "id": "96ddde28aad3f0b6"
  },
  {
   "cell_type": "code",
   "execution_count": 12,
   "outputs": [],
   "source": [
    "new_df['Age']=new_df['Age'].fillna(new_df['Age'].mean())"
   ],
   "metadata": {
    "collapsed": false,
    "ExecuteTime": {
     "end_time": "2023-11-14T10:38:00.857760400Z",
     "start_time": "2023-11-14T10:38:00.782778400Z"
    }
   },
   "id": "f89b8e68fd388931"
  },
  {
   "cell_type": "code",
   "execution_count": 13,
   "outputs": [
    {
     "name": "stdout",
     "output_type": "stream",
     "text": [
      "<class 'pandas.core.frame.DataFrame'>\n",
      "RangeIndex: 10000 entries, 0 to 9999\n",
      "Data columns (total 2 columns):\n",
      " #   Column  Non-Null Count  Dtype  \n",
      "---  ------  --------------  -----  \n",
      " 0   Age     10000 non-null  float64\n",
      " 1   Tenure  10000 non-null  int64  \n",
      "dtypes: float64(1), int64(1)\n",
      "memory usage: 156.4 KB\n"
     ]
    }
   ],
   "source": [
    "new_df.info()"
   ],
   "metadata": {
    "collapsed": false,
    "ExecuteTime": {
     "end_time": "2023-11-14T10:38:10.686391300Z",
     "start_time": "2023-11-14T10:38:10.653423200Z"
    }
   },
   "id": "216d8d0be2fec0c1"
  },
  {
   "cell_type": "markdown",
   "source": [
    "# Normalization"
   ],
   "metadata": {
    "collapsed": false
   },
   "id": "2cc163a39523f36b"
  },
  {
   "cell_type": "code",
   "execution_count": 14,
   "outputs": [
    {
     "name": "stdout",
     "output_type": "stream",
     "text": [
      "[[0.32432432 0.2       ]\n",
      " [0.28294232 0.1       ]\n",
      " [0.32432432 0.8       ]\n",
      " ...\n",
      " [0.24324324 0.7       ]\n",
      " [0.32432432 0.3       ]\n",
      " [0.13513514 0.4       ]]\n"
     ]
    }
   ],
   "source": [
    "scaler = MinMaxScaler()\n",
    "normalized_df = scaler.fit_transform(new_df)\n",
    "print(normalized_df)"
   ],
   "metadata": {
    "collapsed": false,
    "ExecuteTime": {
     "end_time": "2023-11-14T10:40:39.263926700Z",
     "start_time": "2023-11-14T10:40:39.233404200Z"
    }
   },
   "id": "c228cdaf88f9bf2"
  },
  {
   "cell_type": "markdown",
   "source": [
    "Let's take another small example"
   ],
   "metadata": {
    "collapsed": false
   },
   "id": "eea0fbf6d889c267"
  },
  {
   "cell_type": "code",
   "execution_count": 17,
   "outputs": [
    {
     "name": "stdout",
     "output_type": "stream",
     "text": [
      "[[0.  ]\n",
      " [0.25]\n",
      " [0.75]\n",
      " [1.  ]]\n"
     ]
    }
   ],
   "source": [
    "x_array = np.array([[2],[3],[5],[6]])\n",
    "scaler = MinMaxScaler()\n",
    "normalized_arr = scaler.fit_transform(x_array)\n",
    "print(normalized_arr)"
   ],
   "metadata": {
    "collapsed": false,
    "ExecuteTime": {
     "end_time": "2023-11-14T10:44:27.232028Z",
     "start_time": "2023-11-14T10:44:27.223751300Z"
    }
   },
   "id": "a6e55465a165a33e"
  },
  {
   "cell_type": "markdown",
   "source": [
    "# Standardization"
   ],
   "metadata": {
    "collapsed": false
   },
   "id": "2d1294f252a3777c"
  },
  {
   "cell_type": "code",
   "execution_count": 18,
   "outputs": [
    {
     "name": "stdout",
     "output_type": "stream",
     "text": [
      "[[ 2.96089278e-01 -1.04175968e+00]\n",
      " [-6.87020479e-16 -1.38753759e+00]\n",
      " [ 2.96089278e-01  1.03290776e+00]\n",
      " ...\n",
      " [-2.84047942e-01  6.87129857e-01]\n",
      " [ 2.96089278e-01 -6.95981772e-01]\n",
      " [-1.05756424e+00 -3.50203865e-01]]\n"
     ]
    }
   ],
   "source": [
    "scaler = StandardScaler()\n",
    "standardized_df = scaler.fit_transform(new_df)\n",
    "print(standardized_df)"
   ],
   "metadata": {
    "collapsed": false,
    "ExecuteTime": {
     "end_time": "2023-11-14T10:48:45.286778200Z",
     "start_time": "2023-11-14T10:48:45.233809400Z"
    }
   },
   "id": "e5b17fc9811f8754"
  },
  {
   "cell_type": "markdown",
   "source": [
    "Let's take another small example"
   ],
   "metadata": {
    "collapsed": false
   },
   "id": "9000e578d278a31c"
  },
  {
   "cell_type": "code",
   "execution_count": 20,
   "outputs": [
    {
     "name": "stdout",
     "output_type": "stream",
     "text": [
      "[[-1.47709789]\n",
      " [-0.86164044]\n",
      " [ 0.36927447]\n",
      " [ 0.98473193]\n",
      " [ 0.98473193]]\n"
     ]
    }
   ],
   "source": [
    "x_array = np.array([[2],[3],[5],[6],[6]])\n",
    "scaler = StandardScaler()\n",
    "normalized_arr_ss = scaler.fit_transform(x_array)\n",
    "print(normalized_arr_ss)"
   ],
   "metadata": {
    "collapsed": false,
    "ExecuteTime": {
     "end_time": "2023-11-14T10:52:14.092051800Z",
     "start_time": "2023-11-14T10:52:14.062469600Z"
    }
   },
   "id": "d2ba6c405115ca8f"
  },
  {
   "cell_type": "markdown",
   "source": [
    "# 3-Sigma Technique (Standard Deviation)"
   ],
   "metadata": {
    "collapsed": false
   },
   "id": "ccc005f0838b934d"
  },
  {
   "cell_type": "code",
   "execution_count": 21,
   "outputs": [],
   "source": [
    "import numpy as np\n",
    "import matplotlib.pyplot as plt\n",
    "import statistics\n",
    "import pandas as pd"
   ],
   "metadata": {
    "collapsed": false,
    "ExecuteTime": {
     "end_time": "2023-11-14T11:59:19.601719900Z",
     "start_time": "2023-11-14T11:59:19.575084800Z"
    }
   },
   "id": "9015658e56b22089"
  },
  {
   "cell_type": "code",
   "execution_count": 25,
   "outputs": [],
   "source": [
    "data = pd.read_csv('D:\\EDA\\sales.csv')"
   ],
   "metadata": {
    "collapsed": false,
    "ExecuteTime": {
     "end_time": "2023-11-14T12:02:39.954627Z",
     "start_time": "2023-11-14T12:02:39.925173Z"
    }
   },
   "id": "ac1ec3466baf56a8"
  },
  {
   "cell_type": "code",
   "execution_count": 26,
   "outputs": [
    {
     "data": {
      "text/plain": "              datesold  postcode   price propertyType  bedrooms\n0  2007-02-07 00:00:00      2607  525000        house         4\n1  2007-02-27 00:00:00      2906  290000        house         3\n2  2007-03-07 00:00:00      2905  328000        house         3\n3  2007-03-09 00:00:00      2905  380000        house         4\n4  2007-03-21 00:00:00      2906  310000        house         3",
      "text/html": "<div>\n<style scoped>\n    .dataframe tbody tr th:only-of-type {\n        vertical-align: middle;\n    }\n\n    .dataframe tbody tr th {\n        vertical-align: top;\n    }\n\n    .dataframe thead th {\n        text-align: right;\n    }\n</style>\n<table border=\"1\" class=\"dataframe\">\n  <thead>\n    <tr style=\"text-align: right;\">\n      <th></th>\n      <th>datesold</th>\n      <th>postcode</th>\n      <th>price</th>\n      <th>propertyType</th>\n      <th>bedrooms</th>\n    </tr>\n  </thead>\n  <tbody>\n    <tr>\n      <th>0</th>\n      <td>2007-02-07 00:00:00</td>\n      <td>2607</td>\n      <td>525000</td>\n      <td>house</td>\n      <td>4</td>\n    </tr>\n    <tr>\n      <th>1</th>\n      <td>2007-02-27 00:00:00</td>\n      <td>2906</td>\n      <td>290000</td>\n      <td>house</td>\n      <td>3</td>\n    </tr>\n    <tr>\n      <th>2</th>\n      <td>2007-03-07 00:00:00</td>\n      <td>2905</td>\n      <td>328000</td>\n      <td>house</td>\n      <td>3</td>\n    </tr>\n    <tr>\n      <th>3</th>\n      <td>2007-03-09 00:00:00</td>\n      <td>2905</td>\n      <td>380000</td>\n      <td>house</td>\n      <td>4</td>\n    </tr>\n    <tr>\n      <th>4</th>\n      <td>2007-03-21 00:00:00</td>\n      <td>2906</td>\n      <td>310000</td>\n      <td>house</td>\n      <td>3</td>\n    </tr>\n  </tbody>\n</table>\n</div>"
     },
     "execution_count": 26,
     "metadata": {},
     "output_type": "execute_result"
    }
   ],
   "source": [
    "data.head(5)"
   ],
   "metadata": {
    "collapsed": false,
    "ExecuteTime": {
     "end_time": "2023-11-14T12:02:49.889032800Z",
     "start_time": "2023-11-14T12:02:49.852691900Z"
    }
   },
   "id": "c9676b45456a1ef3"
  },
  {
   "cell_type": "code",
   "execution_count": 27,
   "outputs": [],
   "source": [
    "# Function to Detection Outlier on one-dimensional datasets.\n",
    "def find_anomalies(data):\n",
    "    #define a list to accumulate anomalies\n",
    "    anomalies = []\n",
    "    # Set upper and lower limit to 3 standard deviation\n",
    "    random_data_std = statistics.stdev(data)\n",
    "    random_data_mean = statistics.mean(data)\n",
    "    \n",
    "    # 3-standard deviation\n",
    "    anomaly_cut_off = random_data_std * 3\n",
    "    \n",
    "    lower_limit = random_data_mean - anomaly_cut_off\n",
    "    upper_limit = random_data_mean + anomaly_cut_off\n",
    "    \n",
    "    # Generate outliers\n",
    "    for outlier in data:\n",
    "        if outlier > upper_limit or outlier < lower_limit:\n",
    "            anomalies.append(outlier)\n",
    "    return anomalies\n"
   ],
   "metadata": {
    "collapsed": false,
    "ExecuteTime": {
     "end_time": "2023-11-14T12:14:51.966141700Z",
     "start_time": "2023-11-14T12:14:51.919329500Z"
    }
   },
   "id": "3718e853bbeeba2"
  },
  {
   "cell_type": "code",
   "execution_count": 28,
   "outputs": [
    {
     "data": {
      "text/plain": "0        525000\n1        290000\n2        328000\n3        380000\n4        310000\n          ...  \n29575    500000\n29576    560000\n29577    464950\n29578    589000\n29579    775000\nName: price, Length: 29580, dtype: int64"
     },
     "execution_count": 28,
     "metadata": {},
     "output_type": "execute_result"
    }
   ],
   "source": [
    "data.price"
   ],
   "metadata": {
    "collapsed": false,
    "ExecuteTime": {
     "end_time": "2023-11-14T12:15:17.203351Z",
     "start_time": "2023-11-14T12:15:17.167871500Z"
    }
   },
   "id": "28ebbdc6a2dd1725"
  },
  {
   "cell_type": "code",
   "execution_count": 29,
   "outputs": [],
   "source": [
    "list_1 = find_anomalies(data['price'])"
   ],
   "metadata": {
    "collapsed": false,
    "ExecuteTime": {
     "end_time": "2023-11-14T12:16:14.285929400Z",
     "start_time": "2023-11-14T12:16:14.230722600Z"
    }
   },
   "id": "783acb230bec3738"
  },
  {
   "cell_type": "code",
   "execution_count": 30,
   "outputs": [
    {
     "data": {
      "text/plain": "461"
     },
     "execution_count": 30,
     "metadata": {},
     "output_type": "execute_result"
    }
   ],
   "source": [
    "len(list_1)"
   ],
   "metadata": {
    "collapsed": false,
    "ExecuteTime": {
     "end_time": "2023-11-14T12:16:21.148294600Z",
     "start_time": "2023-11-14T12:16:21.095228Z"
    }
   },
   "id": "d10da6c105e6256d"
  },
  {
   "cell_type": "code",
   "execution_count": 31,
   "outputs": [
    {
     "data": {
      "text/plain": "29580"
     },
     "execution_count": 31,
     "metadata": {},
     "output_type": "execute_result"
    }
   ],
   "source": [
    "len(data)"
   ],
   "metadata": {
    "collapsed": false,
    "ExecuteTime": {
     "end_time": "2023-11-14T12:16:29.884271700Z",
     "start_time": "2023-11-14T12:16:29.817959300Z"
    }
   },
   "id": "45eafbbdd0a76728"
  },
  {
   "cell_type": "markdown",
   "source": [
    "In this case, by performing this calculation ((461 / 29580) * 100), it is determined that 1.55% of the price data are outliers and are outside the positive and negative sigma range."
   ],
   "metadata": {
    "collapsed": false
   },
   "id": "2ec629ae6dcb53c3"
  },
  {
   "cell_type": "code",
   "execution_count": 32,
   "outputs": [
    {
     "data": {
      "text/plain": "4.312009366902366"
     },
     "execution_count": 32,
     "metadata": {},
     "output_type": "execute_result"
    }
   ],
   "source": [
    "data.price.skew()"
   ],
   "metadata": {
    "collapsed": false,
    "ExecuteTime": {
     "end_time": "2023-11-14T12:20:59.079963200Z",
     "start_time": "2023-11-14T12:20:59.038998400Z"
    }
   },
   "id": "19173bafb105dc92"
  },
  {
   "cell_type": "code",
   "execution_count": 33,
   "outputs": [],
   "source": [
    "import seaborn as sns"
   ],
   "metadata": {
    "collapsed": false,
    "ExecuteTime": {
     "end_time": "2023-11-14T12:21:52.315167900Z",
     "start_time": "2023-11-14T12:21:52.055908600Z"
    }
   },
   "id": "2eee2880b8a8dfeb"
  },
  {
   "cell_type": "code",
   "execution_count": 34,
   "outputs": [
    {
     "data": {
      "text/plain": "<Axes: xlabel='price', ylabel='Density'>"
     },
     "execution_count": 34,
     "metadata": {},
     "output_type": "execute_result"
    },
    {
     "data": {
      "text/plain": "<Figure size 640x480 with 1 Axes>",
      "image/png": "[encoded data removed]"
     },
     "metadata": {},
     "output_type": "display_data"
    }
   ],
   "source": [
    "sns.kdeplot(data.price)"
   ],
   "metadata": {
    "collapsed": false,
    "ExecuteTime": {
     "end_time": "2023-11-14T12:22:10.321864400Z",
     "start_time": "2023-11-14T12:22:09.916500600Z"
    }
   },
   "id": "80d88473a7551657"
  },
  {
   "cell_type": "code",
   "execution_count": 35,
   "outputs": [],
   "source": [
    "data['price_transformed'] = np.log(data.price)"
   ],
   "metadata": {
    "collapsed": false,
    "ExecuteTime": {
     "end_time": "2023-11-14T12:24:23.020505200Z",
     "start_time": "2023-11-14T12:24:22.952904400Z"
    }
   },
   "id": "d566aa594e72ab5"
  },
  {
   "cell_type": "code",
   "execution_count": 36,
   "outputs": [
    {
     "data": {
      "text/plain": "0.4731646269984763"
     },
     "execution_count": 36,
     "metadata": {},
     "output_type": "execute_result"
    }
   ],
   "source": [
    "data.price_transformed.skew()"
   ],
   "metadata": {
    "collapsed": false,
    "ExecuteTime": {
     "end_time": "2023-11-14T12:24:41.553004500Z",
     "start_time": "2023-11-14T12:24:41.503941300Z"
    }
   },
   "id": "b3aabeea788b44ed"
  },
  {
   "cell_type": "markdown",
   "source": [
    " We normalize the data with a logarithmic scale and bring the skewness index close to zero"
   ],
   "metadata": {
    "collapsed": false
   },
   "id": "c386608ffdcb43aa"
  },
  {
   "cell_type": "code",
   "execution_count": 37,
   "outputs": [],
   "source": [
    "list_2 = find_anomalies(data.price_transformed)"
   ],
   "metadata": {
    "collapsed": false,
    "ExecuteTime": {
     "end_time": "2023-11-14T12:30:34.672844700Z",
     "start_time": "2023-11-14T12:30:34.268009200Z"
    }
   },
   "id": "9102df2d5bad7015"
  },
  {
   "cell_type": "code",
   "execution_count": 38,
   "outputs": [
    {
     "data": {
      "text/plain": "266"
     },
     "execution_count": 38,
     "metadata": {},
     "output_type": "execute_result"
    }
   ],
   "source": [
    "len(list_2)"
   ],
   "metadata": {
    "collapsed": false,
    "ExecuteTime": {
     "end_time": "2023-11-14T12:30:39.408647200Z",
     "start_time": "2023-11-14T12:30:39.356966900Z"
    }
   },
   "id": "1aa352f043b22981"
  },
  {
   "cell_type": "code",
   "execution_count": 39,
   "outputs": [
    {
     "data": {
      "text/plain": "29580"
     },
     "execution_count": 39,
     "metadata": {},
     "output_type": "execute_result"
    }
   ],
   "source": [
    "len(data)"
   ],
   "metadata": {
    "collapsed": false,
    "ExecuteTime": {
     "end_time": "2023-11-14T12:30:47.978544Z",
     "start_time": "2023-11-14T12:30:47.906615600Z"
    }
   },
   "id": "c6ef0b1e43558f2e"
  },
  {
   "cell_type": "code",
   "execution_count": 40,
   "outputs": [
    {
     "data": {
      "text/plain": "<Axes: xlabel='price_transformed', ylabel='Density'>"
     },
     "execution_count": 40,
     "metadata": {},
     "output_type": "execute_result"
    },
    {
     "data": {
      "text/plain": "<Figure size 640x480 with 1 Axes>",
      "image/png": "[encoded data removed]"
     },
     "metadata": {},
     "output_type": "display_data"
    }
   ],
   "source": [
    "sns.kdeplot(data.price_transformed)"
   ],
   "metadata": {
    "collapsed": false,
    "ExecuteTime": {
     "end_time": "2023-11-14T12:31:20.715682200Z",
     "start_time": "2023-11-14T12:31:20.244361900Z"
    }
   },
   "id": "bb25aa53bcfe0442"
  },
  {
   "cell_type": "code",
   "execution_count": 41,
   "outputs": [],
   "source": [
    "data['price_transformed_double'] = np.log(data.price_transformed)"
   ],
   "metadata": {
    "collapsed": false,
    "ExecuteTime": {
     "end_time": "2023-11-14T12:32:32.507650400Z",
     "start_time": "2023-11-14T12:32:32.453054700Z"
    }
   },
   "id": "30a3b21331a0fba0"
  },
  {
   "cell_type": "code",
   "execution_count": 42,
   "outputs": [
    {
     "data": {
      "text/plain": "0.33092530655758573"
     },
     "execution_count": 42,
     "metadata": {},
     "output_type": "execute_result"
    }
   ],
   "source": [
    "data['price_transformed_double'].skew()"
   ],
   "metadata": {
    "collapsed": false,
    "ExecuteTime": {
     "end_time": "2023-11-14T12:32:57.018155100Z",
     "start_time": "2023-11-14T12:32:56.952665Z"
    }
   },
   "id": "ecc8dec473565481"
  },
  {
   "cell_type": "code",
   "execution_count": 43,
   "outputs": [],
   "source": [
    "list_3 = find_anomalies(data.price_transformed_double)"
   ],
   "metadata": {
    "collapsed": false,
    "ExecuteTime": {
     "end_time": "2023-11-14T12:33:17.299149800Z",
     "start_time": "2023-11-14T12:33:17.227328700Z"
    }
   },
   "id": "d6e07b286bfe9633"
  },
  {
   "cell_type": "code",
   "execution_count": 44,
   "outputs": [
    {
     "data": {
      "text/plain": "251"
     },
     "execution_count": 44,
     "metadata": {},
     "output_type": "execute_result"
    }
   ],
   "source": [
    "len(list_3)"
   ],
   "metadata": {
    "collapsed": false,
    "ExecuteTime": {
     "end_time": "2023-11-14T12:33:24.801755Z",
     "start_time": "2023-11-14T12:33:24.614769100Z"
    }
   },
   "id": "8772855060afdb42"
  },
  {
   "cell_type": "code",
   "execution_count": 45,
   "outputs": [
    {
     "data": {
      "text/plain": "29580"
     },
     "execution_count": 45,
     "metadata": {},
     "output_type": "execute_result"
    }
   ],
   "source": [
    "len(data)"
   ],
   "metadata": {
    "collapsed": false,
    "ExecuteTime": {
     "end_time": "2023-11-14T12:33:31.916792500Z",
     "start_time": "2023-11-14T12:33:31.823209800Z"
    }
   },
   "id": "f78ef909160dca29"
  },
  {
   "cell_type": "code",
   "execution_count": 46,
   "outputs": [
    {
     "data": {
      "text/plain": "<Axes: xlabel='price_transformed_double', ylabel='Density'>"
     },
     "execution_count": 46,
     "metadata": {},
     "output_type": "execute_result"
    },
    {
     "data": {
      "text/plain": "<Figure size 640x480 with 1 Axes>",
      "image/png": "[encoded data removed]"
     },
     "metadata": {},
     "output_type": "display_data"
    }
   ],
   "source": [
    "sns.kdeplot(data.price_transformed_double)"
   ],
   "metadata": {
    "collapsed": false,
    "ExecuteTime": {
     "end_time": "2023-11-14T12:34:19.109064800Z",
     "start_time": "2023-11-14T12:34:18.616711900Z"
    }
   },
   "id": "8ee7e0b0f6fe2aad"
  },
  {
   "cell_type": "markdown",
   "source": [
    "- Anything below 40 or above 80 are considered as outliers"
   ],
   "metadata": {
    "collapsed": false
   },
   "id": "9a7e4a32acb97edc"
  },
  {
   "cell_type": "markdown",
   "source": [
    "# Boxplots"
   ],
   "metadata": {
    "collapsed": false
   },
   "id": "3e49ebe98d8a22c3"
  },
  {
   "cell_type": "code",
   "execution_count": 47,
   "outputs": [],
   "source": [
    "import seaborn as sns \n",
    "import matplotlib.pyplot as plt"
   ],
   "metadata": {
    "collapsed": false,
    "ExecuteTime": {
     "end_time": "2023-11-14T12:37:16.353316500Z",
     "start_time": "2023-11-14T12:37:16.321417Z"
    }
   },
   "id": "711e3e7f9b2b3c7e"
  },
  {
   "cell_type": "code",
   "execution_count": 48,
   "outputs": [
    {
     "data": {
      "text/plain": "<Axes: >"
     },
     "execution_count": 48,
     "metadata": {},
     "output_type": "execute_result"
    },
    {
     "data": {
      "text/plain": "<Figure size 640x480 with 1 Axes>",
      "image/png": "[encoded data removed]"
     },
     "metadata": {},
     "output_type": "display_data"
    }
   ],
   "source": [
    "sns.boxenplot(data)"
   ],
   "metadata": {
    "collapsed": false,
    "ExecuteTime": {
     "end_time": "2023-11-14T12:37:33.754698300Z",
     "start_time": "2023-11-14T12:37:33.095787500Z"
    }
   },
   "id": "f5a0e1d86eb2276a"
  },
  {
   "cell_type": "markdown",
   "source": [
    "The above code dispalys the plot below.\n",
    "- As you can see, it considers everything above 75 or below ~ -35 to be an outlier. The results are very close to method 1 above."
   ],
   "metadata": {
    "collapsed": false
   },
   "id": "1afc3bcb12341193"
  },
  {
   "cell_type": "code",
   "execution_count": 49,
   "outputs": [],
   "source": [
    "import pandas as pd \n"
   ],
   "metadata": {
    "collapsed": false,
    "ExecuteTime": {
     "end_time": "2023-11-14T12:41:44.946967600Z",
     "start_time": "2023-11-14T12:41:44.874789200Z"
    }
   },
   "id": "7fdd8d766906a55f"
  },
  {
   "cell_type": "code",
   "execution_count": 50,
   "outputs": [],
   "source": [
    "df = pd.DataFrame(data)"
   ],
   "metadata": {
    "collapsed": false,
    "ExecuteTime": {
     "end_time": "2023-11-14T12:42:02.285458Z",
     "start_time": "2023-11-14T12:42:02.163040Z"
    }
   },
   "id": "680cdea13849af25"
  },
  {
   "cell_type": "code",
   "execution_count": 51,
   "outputs": [
    {
     "data": {
      "text/plain": "29580"
     },
     "execution_count": 51,
     "metadata": {},
     "output_type": "execute_result"
    }
   ],
   "source": [
    "len(df)"
   ],
   "metadata": {
    "collapsed": false,
    "ExecuteTime": {
     "end_time": "2023-11-14T12:42:08.349775600Z",
     "start_time": "2023-11-14T12:42:08.273287400Z"
    }
   },
   "id": "9712a192ce064f3d"
  },
  {
   "cell_type": "code",
   "execution_count": 52,
   "outputs": [
    {
     "data": {
      "text/plain": "           postcode         price      bedrooms  price_transformed  \\\ncount  29580.000000  2.958000e+04  29580.000000       29580.000000   \nmean    2730.249730  6.097363e+05      3.250169          13.244695   \nstd      146.717292  2.817079e+05      0.951275           0.375214   \nmin     2600.000000  5.650000e+04      0.000000          10.941996   \n25%     2607.000000  4.400000e+05      3.000000          12.994530   \n50%     2615.000000  5.500000e+05      3.000000          13.217674   \n75%     2905.000000  7.050000e+05      4.000000          13.465953   \nmax     2914.000000  8.000000e+06      5.000000          15.894952   \n\n       price_transformed_double  \ncount              29580.000000  \nmean                   2.583199  \nstd                    0.028183  \nmin                    2.392608  \n25%                    2.564529  \n50%                    2.581555  \n75%                    2.600165  \nmax                    2.766002  ",
      "text/html": "<div>\n<style scoped>\n    .dataframe tbody tr th:only-of-type {\n        vertical-align: middle;\n    }\n\n    .dataframe tbody tr th {\n        vertical-align: top;\n    }\n\n    .dataframe thead th {\n        text-align: right;\n    }\n</style>\n<table border=\"1\" class=\"dataframe\">\n  <thead>\n    <tr style=\"text-align: right;\">\n      <th></th>\n      <th>postcode</th>\n      <th>price</th>\n      <th>bedrooms</th>\n      <th>price_transformed</th>\n      <th>price_transformed_double</th>\n    </tr>\n  </thead>\n  <tbody>\n    <tr>\n      <th>count</th>\n      <td>29580.000000</td>\n      <td>2.958000e+04</td>\n      <td>29580.000000</td>\n      <td>29580.000000</td>\n      <td>29580.000000</td>\n    </tr>\n    <tr>\n      <th>mean</th>\n      <td>2730.249730</td>\n      <td>6.097363e+05</td>\n      <td>3.250169</td>\n      <td>13.244695</td>\n      <td>2.583199</td>\n    </tr>\n    <tr>\n      <th>std</th>\n      <td>146.717292</td>\n      <td>2.817079e+05</td>\n      <td>0.951275</td>\n      <td>0.375214</td>\n      <td>0.028183</td>\n    </tr>\n    <tr>\n      <th>min</th>\n      <td>2600.000000</td>\n      <td>5.650000e+04</td>\n      <td>0.000000</td>\n      <td>10.941996</td>\n      <td>2.392608</td>\n    </tr>\n    <tr>\n      <th>25%</th>\n      <td>2607.000000</td>\n      <td>4.400000e+05</td>\n      <td>3.000000</td>\n      <td>12.994530</td>\n      <td>2.564529</td>\n    </tr>\n    <tr>\n      <th>50%</th>\n      <td>2615.000000</td>\n      <td>5.500000e+05</td>\n      <td>3.000000</td>\n      <td>13.217674</td>\n      <td>2.581555</td>\n    </tr>\n    <tr>\n      <th>75%</th>\n      <td>2905.000000</td>\n      <td>7.050000e+05</td>\n      <td>4.000000</td>\n      <td>13.465953</td>\n      <td>2.600165</td>\n    </tr>\n    <tr>\n      <th>max</th>\n      <td>2914.000000</td>\n      <td>8.000000e+06</td>\n      <td>5.000000</td>\n      <td>15.894952</td>\n      <td>2.766002</td>\n    </tr>\n  </tbody>\n</table>\n</div>"
     },
     "execution_count": 52,
     "metadata": {},
     "output_type": "execute_result"
    }
   ],
   "source": [
    "# Statistical information of the dataframe columns\n",
    "df.describe()"
   ],
   "metadata": {
    "collapsed": false,
    "ExecuteTime": {
     "end_time": "2023-11-14T12:43:07.952645600Z",
     "start_time": "2023-11-14T12:43:07.752864600Z"
    }
   },
   "id": "98f73c4d1272a609"
  },
  {
   "cell_type": "markdown",
   "source": [
    "### Inter Quartile Range\n",
    "#### IQR = Q3 - Q1"
   ],
   "metadata": {
    "collapsed": false
   },
   "id": "ddeca45816f155a3"
  },
  {
   "cell_type": "code",
   "execution_count": 53,
   "outputs": [],
   "source": [
    "list1 = [43, 54, 56 , 61, 62, 66, 68, 69, 69, 70, 71, 72, 77, 78, 79, 85, 87, 88, 89, 93, 95, 96, 98, 99, 99]"
   ],
   "metadata": {
    "collapsed": false,
    "ExecuteTime": {
     "end_time": "2023-11-14T12:51:48.852775100Z",
     "start_time": "2023-11-14T12:51:48.713155700Z"
    }
   },
   "id": "df03208f6ffb0ce1"
  },
  {
   "cell_type": "code",
   "execution_count": 54,
   "outputs": [
    {
     "data": {
      "text/plain": "25"
     },
     "execution_count": 54,
     "metadata": {},
     "output_type": "execute_result"
    }
   ],
   "source": [
    "len(list1)"
   ],
   "metadata": {
    "collapsed": false,
    "ExecuteTime": {
     "end_time": "2023-11-14T12:51:54.952682900Z",
     "start_time": "2023-11-14T12:51:54.878668300Z"
    }
   },
   "id": "58bcf6d35e6913d5"
  },
  {
   "cell_type": "code",
   "execution_count": 55,
   "outputs": [
    {
     "data": {
      "text/plain": "99"
     },
     "execution_count": 55,
     "metadata": {},
     "output_type": "execute_result"
    }
   ],
   "source": [
    "max(list1)"
   ],
   "metadata": {
    "collapsed": false,
    "ExecuteTime": {
     "end_time": "2023-11-14T12:52:01.502717700Z",
     "start_time": "2023-11-14T12:52:01.429383400Z"
    }
   },
   "id": "505637f82e2caf02"
  },
  {
   "cell_type": "code",
   "execution_count": 56,
   "outputs": [
    {
     "data": {
      "text/plain": "43"
     },
     "execution_count": 56,
     "metadata": {},
     "output_type": "execute_result"
    }
   ],
   "source": [
    "min(list1)"
   ],
   "metadata": {
    "collapsed": false,
    "ExecuteTime": {
     "end_time": "2023-11-14T12:52:06.853631500Z",
     "start_time": "2023-11-14T12:52:06.727691100Z"
    }
   },
   "id": "a5167d6d5316abb5"
  },
  {
   "cell_type": "code",
   "execution_count": 57,
   "outputs": [],
   "source": [
    "import statistics"
   ],
   "metadata": {
    "collapsed": false,
    "ExecuteTime": {
     "end_time": "2023-11-14T12:52:43.252402100Z",
     "start_time": "2023-11-14T12:52:43.193447200Z"
    }
   },
   "id": "51e62e592e52b37f"
  },
  {
   "cell_type": "code",
   "execution_count": 58,
   "outputs": [
    {
     "data": {
      "text/plain": "76.96"
     },
     "execution_count": 58,
     "metadata": {},
     "output_type": "execute_result"
    }
   ],
   "source": [
    "statistics.mean(list1)"
   ],
   "metadata": {
    "collapsed": false,
    "ExecuteTime": {
     "end_time": "2023-11-14T12:52:52.481172800Z",
     "start_time": "2023-11-14T12:52:52.422135300Z"
    }
   },
   "id": "5e5fd10683ceb27b"
  },
  {
   "cell_type": "code",
   "execution_count": 59,
   "outputs": [
    {
     "data": {
      "text/plain": "[43,\n 54,\n 56,\n 61,\n 62,\n 66,\n 68,\n 69,\n 69,\n 70,\n 71,\n 72,\n 77,\n 78,\n 79,\n 85,\n 87,\n 88,\n 89,\n 93,\n 95,\n 96,\n 98,\n 99,\n 99]"
     },
     "execution_count": 59,
     "metadata": {},
     "output_type": "execute_result"
    }
   ],
   "source": [
    "sorted(list1)"
   ],
   "metadata": {
    "collapsed": false,
    "ExecuteTime": {
     "end_time": "2023-11-14T12:52:59.488053700Z",
     "start_time": "2023-11-14T12:52:59.429415100Z"
    }
   },
   "id": "f4ac76f43b37cb61"
  },
  {
   "cell_type": "markdown",
   "source": [
    "To find the 90th percentile for these (ordered) scores, start by multiplying 90 percent times the total number of scores, which gives 90% * 25 = 0.90 * 25 = 22.5 (the index). Rounding up to the nearest whole number, you get 23."
   ],
   "metadata": {
    "collapsed": false
   },
   "id": "8e755ee8157f459f"
  },
  {
   "cell_type": "code",
   "execution_count": 60,
   "outputs": [],
   "source": [
    "list2 = sorted(list1)"
   ],
   "metadata": {
    "collapsed": false,
    "ExecuteTime": {
     "end_time": "2023-11-14T12:55:58.320153900Z",
     "start_time": "2023-11-14T12:55:58.195103100Z"
    }
   },
   "id": "96189c3ff244acc0"
  },
  {
   "cell_type": "code",
   "execution_count": 61,
   "outputs": [
    {
     "data": {
      "text/plain": "[43,\n 54,\n 56,\n 61,\n 62,\n 66,\n 68,\n 69,\n 69,\n 70,\n 71,\n 72,\n 77,\n 78,\n 79,\n 85,\n 87,\n 88,\n 89,\n 93,\n 95,\n 96,\n 98,\n 99,\n 99]"
     },
     "execution_count": 61,
     "metadata": {},
     "output_type": "execute_result"
    }
   ],
   "source": [
    "list2"
   ],
   "metadata": {
    "collapsed": false,
    "ExecuteTime": {
     "end_time": "2023-11-14T12:56:02.953467900Z",
     "start_time": "2023-11-14T12:56:02.896859700Z"
    }
   },
   "id": "17dee760bcd5ac2b"
  },
  {
   "cell_type": "markdown",
   "source": [
    "Hence, 98 is the 90th percentile for this dataset"
   ],
   "metadata": {
    "collapsed": false
   },
   "id": "6a64945ac31899da"
  },
  {
   "cell_type": "markdown",
   "source": [
    "Now say you want to find the 20th percentile. Start by taking 0.20 * 25 = 5 (the index); this is a whole number, which tells you the 20th percentile is the average of the 5th and 6th values in the ordered data set (62 and 66).\n"
   ],
   "metadata": {
    "collapsed": false
   },
   "id": "55b0730e05f1189b"
  },
  {
   "cell_type": "markdown",
   "source": [
    "so, 20th percentile is 62+66/2=64"
   ],
   "metadata": {
    "collapsed": false
   },
   "id": "1799526ea59d9bbc"
  },
  {
   "cell_type": "code",
   "execution_count": null,
   "outputs": [],
   "source": [],
   "metadata": {
    "collapsed": false
   },
   "id": "b6d18f9f5e9819f7"
  }
 ],
 "metadata": {
  "kernelspec": {
   "display_name": "Python 3",
   "language": "python",
   "name": "python3"
  },
  "language_info": {
   "codemirror_mode": {
    "name": "ipython",
    "version": 2
   },
   "file_extension": ".py",
   "mimetype": "text/x-python",
   "name": "python",
   "nbconvert_exporter": "python",
   "pygments_lexer": "ipython2",
   "version": "2.7.6"
  }
 },
 "nbformat": 4,
 "nbformat_minor": 5
}
